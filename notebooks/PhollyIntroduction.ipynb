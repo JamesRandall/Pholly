{
 "cells": [
  {
   "cell_type": "markdown",
   "metadata": {},
   "source": [
    "# Pholly\n",
    "\n",
    "Welcome to the Pholly interactive notebook - this is an introduction to using resilience patterns with F# and Pholly which is itself based on Polly.\n",
    "\n",
    "## What is Pholly\n",
    "\n",
    "Pholly provides a more natural way to use Polly from within F# and uses a number of F# language features to provide an expressive DSL type approach to using common resilience patterns. Currently the three Polly reactive resilience patterns are supported:\n",
    "\n",
    "|Pattern|Purpose|\n",
    "|-------|-------|\n",
    "|Retry|Many faults are transient and may self-correct after a short delay and the retry pattern will attempt to retry the operation until it succeeds or a failure condition is met|\n",
    "|Circuit Breaker|When a system is seriously struggling, failing fast is better than making users/callers wait. The circuit breaker can protect a faulting system from overloading and help it recover.|\n",
    "|Fallback|Things can and do fail and it can be useful to provide a fallback|\n",
    "\n",
    "## Pholly Principles\n",
    "\n",
    "In Object Oriented code its common to indicate failures through the use of exceptions and when used with C# Polly is commonly used in this way. For example you might retry an operation against a SQL database if a SqlException is received with a throttle status code. Although exceptions are used in F# its common to use the Result<> type to handle errors - exceptions can be ignored but the use of the Result discriminated union means that code has to cater for error scenarios.\n",
    "\n",
    "## Retry Policy\n",
    "\n",
    "The code below shows a simple retry policy that will roll a dice and continue to retry until a 5 or higher is rolled.\n",
    "\n",
    ""
   ]
  },
  {
   "cell_type": "code",
   "execution_count": 1,
   "metadata": {},
   "source": [
    "#!fsharp\n",
    "printf \"hello world\""
   ],
   "outputs": [
    {
     "output_type": "execute_result",
     "data": {
      "text/plain": "hello world"
     },
     "execution_count": 1,
     "metadata": {}
    }
   ]
  },
  {
   "cell_type": "markdown",
   "metadata": {},
   "source": [
    "## Thanks\n",
    "\n",
    "Many thanks to the creators of [Polly](https://github.com/App-vNext/Polly) itself - I've used it in many production systems and I've used some of their descriptions of the patterns here."
   ]
  }
 ],
 "metadata": {
  "kernelspec": {
   "display_name": ".NET (C#)",
   "language": "C#",
   "name": ".net-csharp"
  },
  "language_info": {
   "file_extension": ".cs",
   "mimetype": "text/x-csharp",
   "name": "C#",
   "pygments_lexer": "csharp",
   "version": "8.0"
  }
 },
 "nbformat": 4,
 "nbformat_minor": 4
}