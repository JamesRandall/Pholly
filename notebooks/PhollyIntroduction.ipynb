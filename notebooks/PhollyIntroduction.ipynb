{
 "cells": [
  {
   "cell_type": "markdown",
   "metadata": {},
   "source": [
    "# Pholly\n",
    "\n",
    "Welcome to the Pholly interactive notebook - this is an introduction to using resilience patterns with F# and Pholly which is itself based on Polly.\n",
    "\n",
    "## What is Pholly\n",
    "\n",
    "Pholly provides a more natural way to use Polly from within F# and uses a number of F# language features to provide an expressive DSL type approach to using common resilience patterns. Currently the three Polly reactive resilience patterns are supported:\n",
    "\n",
    "|Pattern|Purpose|\n",
    "|-------|-------|\n",
    "|Retry|Many faults are transient and may self-correct after a short delay and the retry pattern will attempt to retry the operation until it succeeds or a failure condition is met|\n",
    "|Circuit Breaker|When a system is seriously struggling, failing fast is better than making users/callers wait. The circuit breaker can protect a faulting system from overloading and help it recover.|\n",
    "|Fallback|Things can and do fail and it can be useful to provide a fallback|\n",
    "\n",
    "## Pholly Principles\n",
    "\n",
    "Pholly uses the F# Result<> type for its error control flow rather than the exceptions you normally see in Polly examples (which are often based on C#).\n",
    "\n",
    "## Retry Policy\n",
    "\n",
    "The retry policy will retry a function until either it succeeds or a constraint on the retry policy is met. The code below shows a simple retry operation that will attempt to roll a dice until a 5 or higher is rolled. It will keep retrying forever."
   ]
  },
  {
   "cell_type": "code",
   "execution_count": 1,
   "metadata": {},
   "source": [
    "#!fsharp\n",
    "#r \"nuget: Pholly\"\n",
    "\n",
    "open Pholly\n",
    "open Retry\n",
    "open System\n",
    "\n",
    "let log msg = printf \"%s\" msg\n",
    "\n",
    "let random = Random((DateTime.UtcNow.Ticks % (Int32.MaxValue |> int64)) |> int32)\n",
    "let rollDice () = random.Next(1,7)\n",
    "let isSuccessfulDiceRoll diceRoll = if diceRoll >= 5 then diceRoll |> Ok else \"Out of range\" |> Error\n",
    "\n",
    "let retryForever = Policy.retry [ retry forever ]\n",
    "match (rollDice >> isSuccessfulDiceRoll) |> retryForever with\n",
    "| Ok value -> sprintf \"Success - returned %d\" value |> log\n",
    "| Error error -> sprintf \"ERROR: %s\" error |> log"
   ],
   "outputs": []
  },
  {
   "cell_type": "markdown",
   "metadata": {},
   "source": [
    "Its not usually helpful to retry an operation forever and so the code below builds on our forever example shows a simple retry policy that will roll a dice and continue to retry until a 5 or higher is rolled or 10 errors occur. Before each retry it will print a message with the retry count."
   ]
  },
  {
   "cell_type": "code",
   "execution_count": 1,
   "metadata": {},
   "source": [
    "#!fsharp\n",
    "#r \"nuget: Pholly\"\n",
    "\n",
    "open Pholly\n",
    "open Retry\n",
    "open System\n",
    "\n",
    "let log msg = printf \"%s\" msg\n",
    "let random = Random((DateTime.UtcNow.Ticks % (Int32.MaxValue |> int64)) |> int32)\n",
    "let rollDice () = random.Next(1,7)\n",
    "let isSuccessfulDiceRoll diceRoll = if diceRoll >= 5 then diceRoll |> Ok else \"Out of range\" |> Error\n",
    "\n",
    "let retry = Policy.retry [\n",
    "    retry (upto 10<times>)\n",
    "    beforeEachRetry (fun _ retryAttempt _ -> sprintf \"Retrying attempt %d\" retryAttempt |> log)\n",
    "]\n",
    "\n",
    "match (rollDice >> isSuccessfulDiceRoll) |> retry with\n",
    "| Ok value -> sprintf \"Success - returned %d\" value |> log\n",
    "| Error error -> sprintf \"ERROR: %s\" error |> log\n",
    ""
   ],
   "outputs": []
  },
  {
   "cell_type": "markdown",
   "metadata": {},
   "source": [
    "The next example shows an asynchronous retry policy for an asyncrhonous workload that also includes a back off sequence - each retry attempt will result in the next delay in the series. If their are more retries than their are specified intervals then the out of range retries will use the final interval."
   ]
  },
  {
   "cell_type": "code",
   "execution_count": 1,
   "metadata": {},
   "source": [
    "#!fsharp\n",
    "#r \"nuget: Pholly\"\n",
    "\n",
    "open Pholly\n",
    "open Retry\n",
    "open System\n",
    "\n",
    "let log msg = printf \"%s\" msg\n",
    "let random = Random((DateTime.UtcNow.Ticks % (Int32.MaxValue |> int64)) |> int32)\n",
    "let rollDice () = random.Next(1,7)\n",
    "let isSuccessfulDiceRoll diceRoll = if diceRoll >= 5 then diceRoll |> Ok else \"Out of range\" |> Error\n",
    "\n",
    "let retry = Policy.retryAsync [\n",
    "    retry (upto 10<times>)\n",
    "    withIntervalsOf [50<ms> ; 500<ms> ; 1000<ms>]\n",
    "    beforeEachRetry (fun _ retryAttempt _ -> sprintf \"Retrying attempt %d\" retryAttempt |> log)\n",
    "]\n",
    "\n",
    "match (async { return (rollDice () |> isSuccessfulDiceRoll) }) |> retry |> Async.RunSynchronously with\n",
    "| Ok value -> sprintf \"Success - returned %d\" value |> log\n",
    "| Error error -> sprintf \"ERROR: %s\" error |> log\n",
    ""
   ],
   "outputs": []
  },
  {
   "cell_type": "markdown",
   "metadata": {},
   "source": [
    "## Circuit Breaker\n",
    "\n",
    "The circuit breaker policy is a good way to keep a failing system space to recover - for example their's no point pounding on an API endpoint that is already overloaded and returning errors as that will likely hinder its recovery.\n",
    "\n",
    "The example below creates a circuit breaker that will \"trip\" into its open state after 3 consecutive errors meaning the fourth call to our protected function will not be made:"
   ]
  },
  {
   "cell_type": "code",
   "execution_count": 1,
   "metadata": {},
   "source": [
    "#!fsharp\n",
    "#r \"nuget: Pholly\"\n",
    "\n",
    "open Pholly\n",
    "open CircuitBreaker\n",
    "open System\n",
    "\n",
    "let log msg = printf \"%s\" msg\n",
    "let outputBreakerResult result = match result with | Ok s -> log s | Error e -> log (sprintf \"Circuit breaker error: %s\\n\" e)\n",
    "\n",
    "let execute,_,_ =\n",
    "    Policy.circuitBreaker [\n",
    "        breakOn 3<consecutiveErrors>\n",
    "        circuitOpenResult (\"Circuit is open\" |> Error)\n",
    "    ]\n",
    "\n",
    "execute (fun _ -> \"Success\" |> Ok) |> outputBreakerResult\n",
    "execute (fun _ -> \"Consecutive error 1\" |> Error) |> outputBreakerResult\n",
    "execute (fun _ -> \"Consecutive error 2\" |> Error) |> outputBreakerResult\n",
    "execute (fun _ -> \"Consecutive error 3 - should trip breaker\" |> Error) |> outputBreakerResult\n",
    "execute (fun _ -> \"Consecutive error 4 - should not be called\" |> Error) |> outputBreakerResult\n",
    ""
   ],
   "outputs": [
    {
     "output_type": "execute_result",
     "data": {
      "text/plain": "Success"
     },
     "execution_count": 1,
     "metadata": {}
    },
    {
     "output_type": "execute_result",
     "data": {
      "text/plain": "Circuit breaker error: Consecutive error 1\n"
     },
     "execution_count": 1,
     "metadata": {}
    },
    {
     "output_type": "execute_result",
     "data": {
      "text/plain": "Circuit breaker error: Consecutive error 2\n"
     },
     "execution_count": 1,
     "metadata": {}
    },
    {
     "output_type": "execute_result",
     "data": {
      "text/plain": "Circuit breaker error: Consecutive error 3 - should trip breaker\n"
     },
     "execution_count": 1,
     "metadata": {}
    },
    {
     "output_type": "execute_result",
     "data": {
      "text/plain": "Circuit breaker error: Circuit is open\n"
     },
     "execution_count": 1,
     "metadata": {}
    }
   ]
  },
  {
   "cell_type": "markdown",
   "metadata": {},
   "source": [
    "The next example breaks up our 3 consecutive errors with another successful result. This means the circuit breaker never trips:"
   ]
  },
  {
   "cell_type": "code",
   "execution_count": 1,
   "metadata": {},
   "source": [
    "#!fsharp\n",
    "#r \"nuget: Pholly\"\n",
    "\n",
    "open Pholly\n",
    "open CircuitBreaker\n",
    "open System\n",
    "\n",
    "let log msg = printf \"%s\" msg\n",
    "let outputBreakerResult result = match result with | Ok s -> log s | Error e -> log (sprintf \"Circuit breaker error: %s\\n\" e)\n",
    "\n",
    "let execute,_,_ =\n",
    "    Policy.circuitBreaker [\n",
    "        breakOn 3<consecutiveErrors>\n",
    "        circuitOpenResult (\"Circuit is open\" |> Error)\n",
    "    ]\n",
    "\n",
    "execute (fun _ -> \"Success\" |> Ok) |> outputBreakerResult\n",
    "execute (fun _ -> \"Consecutive error a.1\" |> Error) |> outputBreakerResult\n",
    "execute (fun _ -> \"Consecutive error a.2\" |> Error) |> outputBreakerResult\n",
    "execute (fun _ -> \"Success\" |> Ok) |> outputBreakerResult\n",
    "execute (fun _ -> \"Consecutive error b.1\" |> Error) |> outputBreakerResult\n",
    "execute (fun _ -> \"Consecutive error b.2\" |> Error) |> outputBreakerResult"
   ],
   "outputs": []
  },
  {
   "cell_type": "markdown",
   "metadata": {},
   "source": [
    "## Thanks\n",
    "\n",
    "Many thanks to the creators of [Polly](https://github.com/App-vNext/Polly) itself - I've used it in many production systems and I've used some of their descriptions of the patterns here."
   ]
  }
 ],
 "metadata": {
  "kernelspec": {
   "display_name": ".NET (C#)",
   "language": "C#",
   "name": ".net-csharp"
  },
  "language_info": {
   "file_extension": ".cs",
   "mimetype": "text/x-csharp",
   "name": "C#",
   "pygments_lexer": "csharp",
   "version": "8.0"
  }
 },
 "nbformat": 4,
 "nbformat_minor": 4
}